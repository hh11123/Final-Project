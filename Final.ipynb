{
 "cells": [
  {
   "cell_type": "code",
   "execution_count": 7,
   "metadata": {},
   "outputs": [],
   "source": [
    "# Import necessary modules\n",
    "import random"
   ]
  },
  {
   "cell_type": "code",
   "execution_count": null,
   "metadata": {},
   "outputs": [],
   "source": [
    "# Define the individual class\n",
    "\n",
    "class individual(color):\n",
    "    \"\"\"class to hold individual\"\"\"\n",
    "\n",
    "    def __init__(self,id=1,color): # Add default values for id and color\n",
    "        self.color =color\n",
    "      "
   ]
  },
  {
   "cell_type": "code",
   "execution_count": null,
   "metadata": {},
   "outputs": [],
   "source": [
    "# Define the population class\n",
    "class population:\n",
    "    def __init__(self,popSize): # Add default values.\n",
    "        \"\"\"Constructor for population class\"\"\"\n",
    "        self.popSize = popSize\n",
    "        self.pop = [] #\"Create an empty list for indivudials\"\n",
    "        for ind in range(popSize):\n",
    "            self.pop.append(individual(id = ind+1))\n",
    "    def add():\n",
    "        self.pop.append(individual(color))\n",
    "    def remove():\n",
    "        self.pop.remove(individual(color))\n",
    "    def frenq(color):\n",
    "        frenquence = individual(color).popSize/self.popSize\n",
    "        return frenquence\n",
    "    \n",
    "            "
   ]
  },
  {
   "cell_type": "code",
   "execution_count": null,
   "metadata": {},
   "outputs": [],
   "source": [
    "# Define the landscape class\n",
    "class landscape:\n",
    "    def __init__(self,popSize): # Add default values.\n",
    "        \"\"\"Constructor for population class\"\"\"\n",
    "        self.popSize = popSize\n",
    "        self.pop = [] #\"Create an empty list for indivudials\"\n",
    "        for ind in range(popSize):\n",
    "            self.pop.append(population(id = ind+1))\n",
    "    def disMax()\n",
    "    "
   ]
  }
 ],
 "metadata": {
  "kernelspec": {
   "display_name": "Python 3",
   "language": "python",
   "name": "python3"
  },
  "language_info": {
   "codemirror_mode": {
    "name": "ipython",
    "version": 3
   },
   "file_extension": ".py",
   "mimetype": "text/x-python",
   "name": "python",
   "nbconvert_exporter": "python",
   "pygments_lexer": "ipython3",
   "version": "3.6.4"
  }
 },
 "nbformat": 4,
 "nbformat_minor": 2
}
