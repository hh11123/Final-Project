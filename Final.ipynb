{
 "cells": [
  {
   "cell_type": "code",
   "execution_count": 1,
   "metadata": {},
   "outputs": [],
   "source": [
    "# Import necessary modules\n",
    "import random\n",
    "import matplotlib.pyplot as plt\n",
    "import numpy as np"
   ]
  },
  {
   "cell_type": "code",
   "execution_count": 2,
   "metadata": {},
   "outputs": [],
   "source": [
    "# Define the individual class\n",
    "\n",
    "class individual:\n",
    "    \"\"\"class to hold individuals\"\"\"\n",
    "\n",
    "    def __init__(self,color): \n",
    "        self.color=color\n",
    "      "
   ]
  },
  {
   "cell_type": "code",
   "execution_count": 3,
   "metadata": {},
   "outputs": [],
   "source": [
    "colorList=[\"red\",\"gray\"] # There are two phenotypes"
   ]
  },
  {
   "cell_type": "code",
   "execution_count": 4,
   "metadata": {},
   "outputs": [],
   "source": [
    "# Define the population class\n",
    "class population:\n",
    "    def __init__(self,colorpop,popSize=100): \n",
    "        \"\"\"Constructor for population class\"\"\"\n",
    "        self.colorpop = colorpop\n",
    "        self.popSize = popSize\n",
    "        self.popLsit = [] #Create an empty list for indivudials\n",
    "    \n",
    "        for ind in range(popSize): # add individuals to population\n",
    "            self.popLsit.append(individual(color=colorpop))\n",
    "    \n",
    "    def countNumber(self): \n",
    "        \"\"\"This costom function calculates the number of phenotypes\"\"\"\n",
    "        red = 0\n",
    "        gray = 0\n",
    "        for ind in self.popList:\n",
    "            if ind.color == \"red\":\n",
    "                red += 1\n",
    "            elif ind.color == \"gray\":\n",
    "                gray += 1\n",
    "        colorNumber = [red,gray]\n",
    "        return colorNumber\n",
    "    \n",
    "    def printFrequency(self):\n",
    "        \"\"\"This custom function prints a text description of the frenquency of phenotypes\"\"\"\n",
    "\n",
    "        print(\"The frenquency of %s is %d/%d.\" % (self.colorpop, self.red, self.popSize)) \n",
    "      "
   ]
  },
  {
   "cell_type": "code",
   "execution_count": 9,
   "metadata": {},
   "outputs": [],
   "source": [
    "# Define the landscape class\n",
    "class landscape:\n",
    "    def __init__(self,popID,popSize,probs): \n",
    "        \"\"\"Constructor for landscape class\"\"\"\n",
    "        self.popID = popID\n",
    "        self.landPopulation = population(colorpop = colorList.pop(), popSize= popSize)# get data from population class\n",
    "        self.probs = probs\n",
    "\n",
    "    movements=[['AA', 'AB'], ['BB', 'BA']]# A dispersal matrix for np.random.choice to move the individual With the probabilities\n",
    "               \n",
    "    def move(self): \n",
    "        \"\"\"move each individual from A to B or B to A, or stay in the original population\"\"\"\n",
    "        if popID == 'A': # population A\n",
    "            randomMove = np.random.choice(movements[0], p = self.probs) # Choose either AA or AB with a probability\n",
    "            if randomMove == 'AA':\n",
    "                pass\n",
    "            elif randomMove == 'AB':\n",
    "                B.landPopliation.popList.append(self.popList.pop())\n",
    "        if popID == 'B': # population B\n",
    "            randomMove == np.random.choice(movements[1], p = self.probs) # Choose either BB or BA with a probability\n",
    "            if randomMove == 'BB':\n",
    "                pass\n",
    "            elif randomMove == 'BA':\n",
    "                A.landPopliation.popList.append(self.popList.pop())\n",
    "                \n",
    "    #def draw(self):"
   ]
  },
  {
   "cell_type": "code",
   "execution_count": 6,
   "metadata": {},
   "outputs": [],
   "source": [
    "A = landscape(popID='A', popSize=100,probs=(0.9,0.1)) # population A\n",
    "B = landscape(popID='B', popSize=150,probs=(0.8,0.2)) # population B"
   ]
  },
  {
   "cell_type": "code",
   "execution_count": null,
   "metadata": {},
   "outputs": [],
   "source": []
  }
 ],
 "metadata": {
  "kernelspec": {
   "display_name": "Python 3",
   "language": "python",
   "name": "python3"
  },
  "language_info": {
   "codemirror_mode": {
    "name": "ipython",
    "version": 3
   },
   "file_extension": ".py",
   "mimetype": "text/x-python",
   "name": "python",
   "nbconvert_exporter": "python",
   "pygments_lexer": "ipython3",
   "version": "3.6.4"
  }
 },
 "nbformat": 4,
 "nbformat_minor": 2
}
